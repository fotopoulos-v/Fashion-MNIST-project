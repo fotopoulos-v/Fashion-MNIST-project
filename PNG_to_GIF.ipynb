{
 "cells": [
  {
   "cell_type": "code",
   "execution_count": 1,
   "id": "23004442",
   "metadata": {},
   "outputs": [],
   "source": [
    "from PIL import Image\n",
    "import os"
   ]
  },
  {
   "cell_type": "code",
   "execution_count": 10,
   "id": "f38df34c",
   "metadata": {},
   "outputs": [
    {
     "name": "stdout",
     "output_type": "stream",
     "text": [
      "GIF saved to output.gif\n"
     ]
    }
   ],
   "source": [
    "# Get all PNG images in a folder, sorted by filename\n",
    "image_folder = \"/home/vf2/Desktop/for_merge\"\n",
    "image_files = sorted([f for f in os.listdir(image_folder) if f.endswith(\".png\")])\n",
    "\n",
    "# Load images\n",
    "images = [Image.open(os.path.join(image_folder, f)) for f in image_files]\n",
    "\n",
    "# Save as GIF\n",
    "output_path = \"output.gif\"\n",
    "images[0].save(\n",
    "    output_path,\n",
    "    save_all=True,\n",
    "    append_images=images[1:],\n",
    "    duration=800,   # milliseconds between frames\n",
    "    loop=1          # 0 = loop forever\n",
    ")\n",
    "\n",
    "print(f\"GIF saved to {output_path}\")"
   ]
  },
  {
   "cell_type": "code",
   "execution_count": null,
   "id": "4d518b33",
   "metadata": {},
   "outputs": [
    {
     "name": "stdout",
     "output_type": "stream",
     "text": [
      "GIF saved to output.gif\n"
     ]
    }
   ],
   "source": [
    "import os\n",
    "from PIL import Image\n",
    "import re\n",
    "\n",
    "image_folder = \"/home/vf2/Desktop/for_merge\"\n",
    "\n",
    "# Custom sort key: extract number from filename\n",
    "def extract_number(filename):\n",
    "    match = re.search(r\"vae_epoch_(\\d+)\\.png\", filename)\n",
    "    return int(match.group(1)) if match else -1\n",
    "\n",
    "image_files = sorted(\n",
    "    [f for f in os.listdir(image_folder) if f.endswith(\".png\")],\n",
    "    key=extract_number\n",
    ")\n",
    "\n",
    "# Load images\n",
    "images = [Image.open(os.path.join(image_folder, f)) for f in image_files]\n",
    "\n",
    "# Save as GIF\n",
    "output_path = \"output.gif\"\n",
    "images[0].save(\n",
    "    output_path,\n",
    "    save_all=True,\n",
    "    append_images=images[1:],\n",
    "    duration=600,\n",
    "    loop=1\n",
    ")\n",
    "\n",
    "print(f\"GIF saved to {output_path}\")\n"
   ]
  },
  {
   "cell_type": "code",
   "execution_count": null,
   "id": "c0ea15e0",
   "metadata": {},
   "outputs": [],
   "source": [
    "import os\n",
    "\n",
    "folder = \"/home/vf2/Desktop/for_merge\"  # Change this to your actual folder path\n",
    "\n",
    "for filename in os.listdir(folder):\n",
    "    if filename.startswith(\"diffusion_epoch_\") and filename.endswith(\".png\"):\n",
    "        parts = filename.split(\"_\")\n",
    "        epoch_str = parts[-1].replace(\".png\", \"\")\n",
    "        if epoch_str.isdigit():\n",
    "            new_epoch_str = f\"{int(epoch_str):03d}\"\n",
    "            new_filename = f\"diffusion_epoch_{new_epoch_str}.png\"\n",
    "            old_path = os.path.join(folder, filename)\n",
    "            new_path = os.path.join(folder, new_filename)\n",
    "            os.rename(old_path, new_path)\n",
    "            print(f\"Renamed: {filename} → {new_filename}\")\n"
   ]
  }
 ],
 "metadata": {
  "kernelspec": {
   "display_name": "python312_all_venv",
   "language": "python",
   "name": "python3"
  },
  "language_info": {
   "codemirror_mode": {
    "name": "ipython",
    "version": 3
   },
   "file_extension": ".py",
   "mimetype": "text/x-python",
   "name": "python",
   "nbconvert_exporter": "python",
   "pygments_lexer": "ipython3",
   "version": "3.12.1"
  }
 },
 "nbformat": 4,
 "nbformat_minor": 5
}
